{
 "cells": [
  {
   "cell_type": "markdown",
   "metadata": {},
   "source": [
    "# 八种排序算法\n",
    "\n",
    " ![排序算法总结](https://www.runoob.com/wp-content/uploads/2019/03/sort.png \"Panorama\")    \n",
    " \n",
    " \n",
    " \n",
    " \n",
    " \n",
    " \n",
    " **以下总结按照常用顺序**"
   ]
  },
  {
   "cell_type": "markdown",
   "metadata": {},
   "source": [
    "## 冒泡排序\n",
    "\n",
    "- 介绍   \n",
    "\n",
    "![动画演示](https://www.runoob.com/wp-content/uploads/2019/03/bubbleSort.gif \"冒泡排序动画演示\")\n",
    "\n",
    "\n",
    "- 代码\n",
    "- 复杂度"
   ]
  },
  {
   "cell_type": "markdown",
   "metadata": {},
   "source": [
    "## 快速排序\n",
    "\n",
    "- 介绍\n",
    "- 代码\n",
    "- 复杂度"
   ]
  },
  {
   "cell_type": "markdown",
   "metadata": {},
   "source": [
    "## 插入排序\n",
    "\n",
    "- 介绍\n",
    "- 代码\n",
    "- 复杂度"
   ]
  },
  {
   "cell_type": "markdown",
   "metadata": {},
   "source": [
    "## 堆排序\n",
    "\n",
    "- 介绍\n",
    "- 代码\n",
    "- 复杂度"
   ]
  },
  {
   "cell_type": "markdown",
   "metadata": {},
   "source": [
    "## 桶排序\n",
    "\n",
    "- 介绍\n",
    "- 代码\n",
    "- 复杂度"
   ]
  },
  {
   "cell_type": "markdown",
   "metadata": {},
   "source": [
    "## 选择排序\n",
    "\n",
    "- 介绍\n",
    "- 代码\n",
    "- 复杂度"
   ]
  },
  {
   "cell_type": "markdown",
   "metadata": {},
   "source": [
    "## 归并排序\n",
    "\n",
    "- 介绍\n",
    "- 代码\n",
    "- 复杂度"
   ]
  },
  {
   "cell_type": "markdown",
   "metadata": {},
   "source": [
    "## 希尔排序\n",
    "\n",
    "- 介绍\n",
    "- 代码\n",
    "- 复杂度"
   ]
  },
  {
   "cell_type": "markdown",
   "metadata": {},
   "source": [
    "## 计数排序\n",
    "\n",
    "- 介绍\n",
    "- 代码\n",
    "- 复杂度"
   ]
  },
  {
   "cell_type": "markdown",
   "metadata": {},
   "source": [
    "## 基数排序\n",
    "\n",
    "- 介绍\n",
    "- 代码\n",
    "- 复杂度"
   ]
  }
 ],
 "metadata": {
  "kernelspec": {
   "display_name": "Python 3",
   "language": "python",
   "name": "python3"
  },
  "language_info": {
   "codemirror_mode": {
    "name": "ipython",
    "version": 3
   },
   "file_extension": ".py",
   "mimetype": "text/x-python",
   "name": "python",
   "nbconvert_exporter": "python",
   "pygments_lexer": "ipython3",
   "version": "3.7.7"
  },
  "toc": {
   "base_numbering": 1,
   "nav_menu": {},
   "number_sections": true,
   "sideBar": true,
   "skip_h1_title": false,
   "title_cell": "Table of Contents",
   "title_sidebar": "Contents",
   "toc_cell": false,
   "toc_position": {},
   "toc_section_display": true,
   "toc_window_display": false
  }
 },
 "nbformat": 4,
 "nbformat_minor": 4
}
