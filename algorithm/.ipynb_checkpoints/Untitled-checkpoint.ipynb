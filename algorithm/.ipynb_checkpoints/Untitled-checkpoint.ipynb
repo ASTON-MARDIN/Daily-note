{
 "cells": [
  {
   "cell_type": "markdown",
   "metadata": {},
   "source": [
    "# 哈希表\n",
    "\n",
    "\n",
    "## 怎么用？\n",
    "\n",
    "包含在C++  **map** 库中 **可以直接调用** ，不需要直接现场实现hash\n",
    "\n",
    "1. 添加key value  \n",
    "\n",
    "\n",
    "\n",
    "2. 查找 key\n",
    "\n",
    "\n",
    "## 哈希表怎么实现\n",
    "\n",
    "精妙之处\n",
    "\n",
    "\n",
    "\n",
    "## 发现了不妙的地方 \n",
    "\n",
    "uncensored_map  / hashmap    / map 的区别"
   ]
  }
 ],
 "metadata": {
  "kernelspec": {
   "display_name": "Python [conda env:jupyter] *",
   "language": "python",
   "name": "conda-env-jupyter-py"
  },
  "language_info": {
   "codemirror_mode": {
    "name": "ipython",
    "version": 3
   },
   "file_extension": ".py",
   "mimetype": "text/x-python",
   "name": "python",
   "nbconvert_exporter": "python",
   "pygments_lexer": "ipython3",
   "version": "3.7.7"
  },
  "toc": {
   "base_numbering": 1,
   "nav_menu": {},
   "number_sections": true,
   "sideBar": true,
   "skip_h1_title": false,
   "title_cell": "Table of Contents",
   "title_sidebar": "Contents",
   "toc_cell": false,
   "toc_position": {},
   "toc_section_display": true,
   "toc_window_display": false
  }
 },
 "nbformat": 4,
 "nbformat_minor": 4
}
