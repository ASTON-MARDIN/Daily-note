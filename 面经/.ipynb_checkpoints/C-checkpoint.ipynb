{
 "cells": [
  {
   "cell_type": "markdown",
   "metadata": {},
   "source": [
    "### 运算符的优先级  "
   ]
  },
  {
   "cell_type": "markdown",
   "metadata": {},
   "source": [
    "## 抽象类  /  虚函数 /  纯虚函数\n",
    "\n",
    "### 抽象类  ：   带有纯虚函数的类\n",
    "\n",
    "    抽象类为派生类提供的一个公共的根，它是为派生类服务的\n",
    "    纯虚函数作为基类的一个接口，该函数可以在不同的派生类中具有不同的实现方式\n",
    "    抽象类只能作为基类来使用，其纯虚函数的实现由派生类给出\n",
    "   - 抽象类不能定义对象\n",
    "   - 派生类中没有重新定义纯虚函数，而只是继承基类的纯虚函数，则这个派生类仍然还是一个抽象类\n",
    "   - 派生类中给出了基类纯虚函数的实现，则该派生类就不再是抽象类了，它是一个可以建立对象的具体的类\n",
    "   \n",
    "### 纯虚函数 ： \n",
    " \n",
    "1、为了方便使用多态特性，我们常常需要在基类中定义虚拟函数。    \n",
    "2、在很多情况下，基类本身生成对象是不合情理的。    \n",
    "　例如，动物作为一个基类可以派生出老虎、孔雀等子类，但动物本身生成对象明显不合常理。　　为了解决上述问题，引入了纯虚函数的概念，将函数定义为纯虚函数，则编译器要求在派生类中必须予以重写以实现多态性。同时含有纯虚拟函数的类称为抽象类，它不能生成对象。这样就很好地解决了上述两个问题。声明了纯虚函数的类是一个抽象类。所以，用户不能创建抽象类的实例，只能创建它的派生类（实现了基类中的纯虚函数的定义）的实例。纯虚函数最显著的特征是：它们必须在继承类中重新声明函数（不要后面的＝0，否则该派生类也不能实例化），而且它们在抽象类中往往没有定义。定义纯虚函数的目的在于，使派生类仅仅只是继承函数的接口。纯虚函数的意义，让所有的类对象（主要是派生类对象）都可以执行纯虚函数的动作，但类无法为纯虚函数提供一个合理的缺省实现。所以类纯虚函数的声明就是在告诉子类的设计者，“你必须提供一个纯虚函数的实现，但我不知道你会怎样实现它”。\n",
    "\n",
    "\n",
    "### 虚函数 ：虚函数是相对于类来说的，只有类中的成员函数才可能是虚函数\n",
    "\n",
    "**注意内联函数、构造函数、静态函数不能是虚函数。**    \n",
    "（详情见  ：  [为什么构造函数不能为虚函数](https://blog.csdn.net/dongyanxia1000/article/details/80419516)  ）\n",
    "\n",
    "虚函数主要是实现了多态，当定义一个父类的指针指向子类对象时，虚函数的执行结果可以是子类中虚函数的定义。    \n",
    "子类没有重载父类的虚函数是一件毫无意义的事情。因为多态也是要基于函数重载的    \n",
    "（注意，再通一个类中，函数重载是根据函数参数个数和类型的不同在程序编译期间决定，称为静态联编）。\n",
    "\n",
    "\n",
    "<br></br>\n",
    "静态联编：在程序链接阶段就可以确定的调用。    \n",
    "动态联编：在程序执行时才能确定的调用。\n",
    "\n",
    "\n",
    "**Reference**：  https://blog.csdn.net/LY_ysys629/article/details/76904129\n"
   ]
  },
  {
   "cell_type": "markdown",
   "metadata": {},
   "source": [
    "## 内联函数   （inline）\n",
    "\n",
    "\n",
    "**Reference ** ： https://blog.csdn.net/zqixiao_09/article/details/50877383\n",
    "\n",
    "\n",
    "**extra ：   [“内联成员函数”](https://blog.csdn.net/u011484045/article/details/44515547)  **\n",
    "\n",
    "**tip  ：内联函数的定义必须出现在第一次调用之前原因     \n",
    "内联函数具有一般函数的特性，它与一般函数所不同之处只在于函数调用的处理。一般函数进行调用时，要将程序执行权转到被调用函数中，然后再返回到调用它的函数中；而内联函数在调用时，是将调用表达式用内联函数体来替换。\n",
    "因此在编译时，如果在调用时未出现函数的定义，编译器就无法用内联函数体来替换调用函数的表达式。而普通函数在编译时不需要进行替换，因此也就不需要在调用之前定义。\n",
    "因此，大家也就容易理解为什么递归函数不能内联了，因为递归函数若在调用处简单的用函数体来替换，无法实现其功能。\n",
    "\n",
    "参考：https://blog.csdn.net/tongjingqi_/article/details/106706914"
   ]
  },
  {
   "cell_type": "markdown",
   "metadata": {},
   "source": [
    "## 静态函数\n",
    "\n",
    "refer  ：  网址 ：http://c.biancheng.net/cpp/biancheng/view/209.html "
   ]
  },
  {
   "cell_type": "code",
   "execution_count": null,
   "metadata": {},
   "outputs": [],
   "source": []
  }
 ],
 "metadata": {
  "kernelspec": {
   "display_name": "Python [conda env:jupyter] *",
   "language": "python",
   "name": "conda-env-jupyter-py"
  },
  "language_info": {
   "codemirror_mode": {
    "name": "ipython",
    "version": 3
   },
   "file_extension": ".py",
   "mimetype": "text/x-python",
   "name": "python",
   "nbconvert_exporter": "python",
   "pygments_lexer": "ipython3",
   "version": "3.7.7"
  },
  "toc": {
   "base_numbering": 1,
   "nav_menu": {},
   "number_sections": true,
   "sideBar": true,
   "skip_h1_title": false,
   "title_cell": "Table of Contents",
   "title_sidebar": "Contents",
   "toc_cell": false,
   "toc_position": {},
   "toc_section_display": true,
   "toc_window_display": true
  }
 },
 "nbformat": 4,
 "nbformat_minor": 4
}
