{
 "cells": [
  {
   "cell_type": "markdown",
   "metadata": {},
   "source": [
    "##  剑指offer3\n",
    "\n",
    "### 检索 ： \n",
    "\n",
    "\n",
    "1. 纯数字的数组， 自带的 下标和数字的对应关系 ；可拓展\n",
    "  > for example :  \n",
    "  长度为 n 的数组 nums 里的所有数字都在 0～n-1 的范围内 \n",
    "  这就有很明显的数字与下标的对应关系。  \n",
    "  但是如果 不强调 **长度为n** 以及 **大小都在0 ~ n-1 范围内** 就很难看出这层关系"
   ]
  },
  {
   "cell_type": "markdown",
   "metadata": {},
   "source": [
    "> tips :  \n",
    " c++ 的vector 可以通过下标索引的方式 修改 向量中的值 "
   ]
  },
  {
   "cell_type": "markdown",
   "metadata": {},
   "source": [
    "### 查找 ：  \n"
   ]
  },
  {
   "cell_type": "markdown",
   "metadata": {},
   "source": [
    "### 二叉树的 前序遍历 ，中序遍历，后序遍历  \n",
    "\n",
    "  根据前序 （preorder)  中序（inorder） 重建二叉树\n",
    "  > 方法：  \n",
    "  1.前序遍历的第一个节点是 二叉树的树根节点  \n",
    "  2.在中序遍历中可以确定 二叉树的左节点和右节点  \n",
    "  \n",
    " "
   ]
  },
  {
   "cell_type": "code",
   "execution_count": null,
   "metadata": {},
   "outputs": [],
   "source": []
  }
 ],
 "metadata": {
  "kernelspec": {
   "display_name": "Python [conda env:jupyter] *",
   "language": "python",
   "name": "conda-env-jupyter-py"
  },
  "language_info": {
   "codemirror_mode": {
    "name": "ipython",
    "version": 3
   },
   "file_extension": ".py",
   "mimetype": "text/x-python",
   "name": "python",
   "nbconvert_exporter": "python",
   "pygments_lexer": "ipython3",
   "version": "3.7.7"
  },
  "toc": {
   "base_numbering": 1,
   "nav_menu": {},
   "number_sections": true,
   "sideBar": true,
   "skip_h1_title": false,
   "title_cell": "Table of Contents",
   "title_sidebar": "Contents",
   "toc_cell": false,
   "toc_position": {},
   "toc_section_display": true,
   "toc_window_display": false
  }
 },
 "nbformat": 4,
 "nbformat_minor": 4
}
