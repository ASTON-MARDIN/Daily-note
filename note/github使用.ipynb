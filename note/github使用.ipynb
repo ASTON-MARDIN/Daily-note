{
 "cells": [
  {
   "cell_type": "markdown",
   "metadata": {},
   "source": [
    "# github 初识\n",
    "\n",
    "## 将本地文件上传到github 库中\n",
    "\n",
    "1. 登录注册 github --> 创建 repository  --> 填入标题  ， 选择是否公开，完成\n",
    "\n",
    "2. 新的repo 界面给出了 库的三种功能 ,这里只介绍最相关的 同步本地文件\n",
    "\n",
    "> create a new repository on the command line\n",
    "```\n",
    "    echo \"# Daily-note\" >> README.md\n",
    "    git init\n",
    "    git add README.md\n",
    "    git commit -m \"first commit\"\n",
    "    git branch -M main\n",
    "    git remote add origin git@github.com:ASTON-MARDIN/Daily-note.git\n",
    "    git push -u origin main\n",
    "```\n",
    "\n",
    "3. 在本地新建文件夹，或者打开准备上传的文件夹 ， 打开bash ，按照顺序输入一遍 \n",
    "\n",
    "> 注意的是， git remote add origin ... 后面链接需要在github repo 里面复制过来\n",
    "\n",
    "[更多详情见链接 ，大致的问题都在这里](https://blog.csdn.net/m0_37324740/article/details/79799291)\n",
    "\n",
    "\n"
   ]
  }
 ],
 "metadata": {
  "kernelspec": {
   "display_name": "Python [conda env:jupyter] *",
   "language": "python",
   "name": "conda-env-jupyter-py"
  },
  "language_info": {
   "codemirror_mode": {
    "name": "ipython",
    "version": 3
   },
   "file_extension": ".py",
   "mimetype": "text/x-python",
   "name": "python",
   "nbconvert_exporter": "python",
   "pygments_lexer": "ipython3",
   "version": "3.7.7"
  },
  "toc": {
   "base_numbering": 1,
   "nav_menu": {},
   "number_sections": true,
   "sideBar": true,
   "skip_h1_title": false,
   "title_cell": "Table of Contents",
   "title_sidebar": "Contents",
   "toc_cell": false,
   "toc_position": {},
   "toc_section_display": true,
   "toc_window_display": false
  }
 },
 "nbformat": 4,
 "nbformat_minor": 4
}
